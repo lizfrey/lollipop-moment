{
 "cells": [
  {
   "cell_type": "code",
   "execution_count": 60,
   "metadata": {},
   "outputs": [],
   "source": [
    "import random\n",
    "import numpy as np\n",
    "import matplotlib.pyplot as plt\n",
    "\n",
    "\n",
    "# Utility functions\n",
    "def sigmoid(x, k, x0):\n",
    "    return 1 / (1 + np.exp(-k * (x - x0)))\n",
    "\n",
    "def average_altruism_probability(population):\n",
    "    return sum(individual.altruism_probability() for individual in population) / len(population)\n",
    "\n",
    "\n",
    "# Individual\n",
    "class Individual:\n",
    "    def __init__(self, payoff_altruism, payoff_defect):\n",
    "        self.payoff_altruism = payoff_altruism\n",
    "        self.payoff_defect = payoff_defect\n",
    "        #self.lollipop_benefit = 1\n",
    "        self.lollipops_received = 0\n",
    "        self.neighbors = list()\n",
    "        \n",
    "    def altruism_probability(self):\n",
    "        delta_pi = self.payoff_altruism - self.payoff_defect + self.lollipops_received # * self.lollipop_benefit\n",
    "        return sigmoid(delta_pi, 1, 0)\n",
    "\n",
    "\n",
    "def run_iteration(population):\n",
    "    for individual in population:\n",
    "                altruism_probability = individual.altruism_probability()\n",
    "                for neighbor in individual.neighbors:\n",
    "                    if altruism_probability > random.random():\n",
    "                        neighbor.lollipops_received += 1\n",
    "\n",
    "# Simulation\n",
    "def run_simulation(population_size, iterations, maximum_number_neighbors, payoff_altruism, payoff_defect):\n",
    "    # contains generations + 1 averages (because it includes the initial average too)\n",
    "    average_altruism_probabilities = list()\n",
    "    # Set up simulation\n",
    "    population = [Individual(payoff_altruism, payoff_defect) for _ in range(population_size)]\n",
    "    for individual in population:\n",
    "        # number of neighbors chosen UAR between 1 and maximum_number_neighbors\n",
    "        individual.neighbors = random.sample(population, random.randint(1, maximum_number_neighbors))  \n",
    "        # prohibit an individual from being their own neighbor\n",
    "        if individual in individual.neighbors:\n",
    "            individual.neighbors.remove(individual)\n",
    "    average_altruism_probabilities.append(average_altruism_probability(population))\n",
    "\n",
    "    # Run simulation \n",
    "    if iterations != None:\n",
    "        for _ in range(iterations):\n",
    "            run_iteration(population)\n",
    "            average_altruism_probabilities.append(average_altruism_probability(population))\n",
    "        return average_altruism_probabilities\n",
    "    else:\n",
    "        iterations = 0\n",
    "        # max out at 100 iterations\n",
    "        while average_altruism_probability(population) < 0.95 and iterations < 100:\n",
    "            run_iteration(population)\n",
    "            iterations += 1\n",
    "        return iterations"
   ]
  },
  {
   "cell_type": "code",
   "execution_count": 61,
   "metadata": {},
   "outputs": [
    {
     "data": {
      "text/plain": [
       "\" \\npayoff_altruism_values =  [-1, -3, -5]\\npayoff_defect_values = [1, 3, 5]\\n\\nfig, axes = plt.subplots(len(payoff_altruism_values), len(payoff_defect_values), figsize=(10, 10))\\n\\nfor i, payoff_altruism in enumerate(payoff_altruism_values):\\n    for j, payoff_defect in enumerate(payoff_defect_values):\\n        average_altruism_probabilities = run_simulation(population_size=50, \\n                                                        iterations=50, \\n                                                        maximum_number_neighbors=10, \\n                                                        payoff_altruism=payoff_altruism, \\n                                                        payoff_defect=payoff_defect)\\n\\n        # Plot results in corresponding subplot\\n        ax = axes[i][j]\\n        ax.plot(average_altruism_probabilities)\\n        ax.set_title(f'Altruism Payoff: {payoff_altruism}, Defect payoff: {payoff_defect}')\\n        ax.set_xlabel('Generation')\\n        ax.set_ylabel('Average Altruism Probability')\\n        ax.set_ylim(0, 1.001)\\n        \\n\\nplt.tight_layout()\\nplt.show()\\n \""
      ]
     },
     "execution_count": 61,
     "metadata": {},
     "output_type": "execute_result"
    }
   ],
   "source": [
    "\"\"\" \n",
    "payoff_altruism_values =  [-1, -3, -5]\n",
    "payoff_defect_values = [1, 3, 5]\n",
    "\n",
    "fig, axes = plt.subplots(len(payoff_altruism_values), len(payoff_defect_values), figsize=(10, 10))\n",
    "\n",
    "for i, payoff_altruism in enumerate(payoff_altruism_values):\n",
    "    for j, payoff_defect in enumerate(payoff_defect_values):\n",
    "        average_altruism_probabilities = run_simulation(population_size=50, \n",
    "                                                        iterations=50, \n",
    "                                                        maximum_number_neighbors=10, \n",
    "                                                        payoff_altruism=payoff_altruism, \n",
    "                                                        payoff_defect=payoff_defect)\n",
    "\n",
    "        # Plot results in corresponding subplot\n",
    "        ax = axes[i][j]\n",
    "        ax.plot(average_altruism_probabilities)\n",
    "        ax.set_title(f'Altruism Payoff: {payoff_altruism}, Defect payoff: {payoff_defect}')\n",
    "        ax.set_xlabel('Generation')\n",
    "        ax.set_ylabel('Average Altruism Probability')\n",
    "        ax.set_ylim(0, 1.001)\n",
    "        \n",
    "\n",
    "plt.tight_layout()\n",
    "plt.show()\n",
    " \"\"\""
   ]
  },
  {
   "cell_type": "code",
   "execution_count": 62,
   "metadata": {},
   "outputs": [
    {
     "data": {
      "image/png": "[encoded data removed]",
      "text/plain": [
       "<Figure size 640x480 with 2 Axes>"
      ]
     },
     "metadata": {},
     "output_type": "display_data"
    }
   ],
   "source": [
    "\n",
    "payoff_altruism_values = np.linspace(-5, 0, 30)\n",
    "payoff_defect_values = np.linspace(0, 5, 30)\n",
    "X, Y = np.meshgrid(payoff_altruism_values, payoff_defect_values)\n",
    "\n",
    "iterations = np.zeros_like(X) \n",
    "\n",
    "for i in range(iterations.shape[0]):\n",
    "    for j in range(iterations.shape[1]):\n",
    "        iterations[i, j] = run_simulation(population_size=50, \n",
    "                                iterations=None, \n",
    "                                maximum_number_neighbors=10, \n",
    "                                payoff_altruism=X[i, j], \n",
    "                                payoff_defect=Y[i, j])\n",
    "        \n",
    "\n",
    "plt.figure()\n",
    "plt.contourf(X, Y, iterations)\n",
    "plt.colorbar()\n",
    "plt.xlabel('Payoff Altruism Values')\n",
    "plt.ylabel('Payoff Defect Values')\n",
    "plt.show()\n",
    "\n",
    "\n"
   ]
  }
 ],
 "metadata": {
  "kernelspec": {
   "display_name": "Python 3",
   "language": "python",
   "name": "python3"
  },
  "language_info": {
   "codemirror_mode": {
    "name": "ipython",
    "version": 3
   },
   "file_extension": ".py",
   "mimetype": "text/x-python",
   "name": "python",
   "nbconvert_exporter": "python",
   "pygments_lexer": "ipython3",
   "version": "3.11.1"
  },
  "orig_nbformat": 4
 },
 "nbformat": 4,
 "nbformat_minor": 2
}
