{
 "cells": [
  {
   "cell_type": "code",
   "execution_count": 4,
   "metadata": {},
   "outputs": [
    {
     "name": "stdout",
     "output_type": "stream",
     "text": [
      "Average payoff: 2.5444\n"
     ]
    }
   ],
   "source": [
    "import random\n",
    "\n",
    "class Individual:\n",
    "    def __init__(self):\n",
    "        self.probability = random.random()\n",
    "        self.payoffNice = 0\n",
    "        self.payoffNothing = 0\n",
    "        self.neighbors = []\n",
    "\n",
    "def play_game(individual1, individual2):\n",
    "\n",
    "\n",
    "def update_strategy(individual, population):\n",
    "    \n",
    "\n",
    "# Simulation parameters\n",
    "population_size = 100\n",
    "generations = 50\n",
    "\n",
    "delta = 10\n",
    "\n",
    "# Initialize the population\n",
    "population = [Individual() for _ in range(population_size)]\n",
    "\n",
    "\n",
    "# Run the simulation\n",
    "for _ in range(generations):\n",
    "    \n",
    "    # Play the game and update strategies\n",
    "    for i in range(0, population_size, 2):\n",
    "        \n",
    "\n",
    "# Compute the average payoff of the population\n",
    "\n",
    "# Plot the average payoff of the population"
   ]
  },
  {
   "cell_type": "code",
   "execution_count": 5,
   "metadata": {},
   "outputs": [
    {
     "name": "stdout",
     "output_type": "stream",
     "text": [
      "Cascading node: A\n",
      "Cascading node: B\n",
      "Cascading node: C\n",
      "Cascading node: D\n",
      "Cascading node: E\n"
     ]
    }
   ],
   "source": [
    "from collections import deque\n",
    "\n",
    "def cascade(graph, start_node):\n",
    "    visited = set()\n",
    "    queue = deque([start_node])\n",
    "\n",
    "    while queue:\n",
    "        current_node = queue.popleft()\n",
    "        if current_node in visited:\n",
    "            continue\n",
    "\n",
    "        visited.add(current_node)\n",
    "        print(\"Cascading node:\", current_node)\n",
    "\n",
    "        neighbors = graph.get(current_node, [])\n",
    "        queue.extend(neighbors)\n",
    "\n",
    "# Example graph\n",
    "graph = {\n",
    "    'A': ['B', 'C'],\n",
    "    'B': ['C', 'D'],\n",
    "    'C': ['E'],\n",
    "    'D': [],\n",
    "    'E': ['D']\n",
    "}\n",
    "\n",
    "start_node = 'A'\n",
    "cascade(graph, start_node)"
   ]
  }
 ],
 "metadata": {
  "kernelspec": {
   "display_name": "Python 3",
   "language": "python",
   "name": "python3"
  },
  "language_info": {
   "codemirror_mode": {
    "name": "ipython",
    "version": 3
   },
   "file_extension": ".py",
   "mimetype": "text/x-python",
   "name": "python",
   "nbconvert_exporter": "python",
   "pygments_lexer": "ipython3",
   "version": "3.11.3"
  },
  "orig_nbformat": 4
 },
 "nbformat": 4,
 "nbformat_minor": 2
}
